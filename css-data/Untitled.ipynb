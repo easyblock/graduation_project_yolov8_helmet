{
 "cells": [
  {
   "cell_type": "code",
   "execution_count": 2,
   "id": "fff78e62",
   "metadata": {},
   "outputs": [
    {
     "name": "stdout",
     "output_type": "stream",
     "text": [
      "Ultralytics YOLOv8.0.231 🚀 Python-3.11.3 torch-2.1.2+cpu CPU (AMD Ryzen 7 4800H with Radeon Graphics)\n",
      "Setup complete ✅ (16 CPUs, 15.4 GB RAM, 228.7/306.5 GB disk)\n"
     ]
    }
   ],
   "source": [
    "import ultralytics\n",
    "ultralytics.checks()"
   ]
  },
  {
   "cell_type": "code",
   "execution_count": null,
   "id": "63601f2c",
   "metadata": {},
   "outputs": [],
   "source": [
    "!yolo pose predict model=yolov8n-pose.pt source=0 show"
   ]
  },
  {
   "cell_type": "code",
   "execution_count": null,
   "id": "86747e2f",
   "metadata": {},
   "outputs": [],
   "source": []
  }
 ],
 "metadata": {
  "kernelspec": {
   "display_name": "Python 3 (ipykernel)",
   "language": "python",
   "name": "python3"
  },
  "language_info": {
   "codemirror_mode": {
    "name": "ipython",
    "version": 3
   },
   "file_extension": ".py",
   "mimetype": "text/x-python",
   "name": "python",
   "nbconvert_exporter": "python",
   "pygments_lexer": "ipython3",
   "version": "3.11.3"
  }
 },
 "nbformat": 4,
 "nbformat_minor": 5
}
